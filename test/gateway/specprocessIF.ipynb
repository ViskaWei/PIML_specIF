{
 "cells": [
  {
   "cell_type": "code",
   "execution_count": null,
   "id": "c7d76847-b7b0-406a-8ede-9e82ab6d7177",
   "metadata": {},
   "outputs": [],
   "source": []
  },
  {
   "cell_type": "code",
   "execution_count": 1,
   "id": "13d6ae03-0cb5-4dc1-ad27-052227c50e25",
   "metadata": {},
   "outputs": [],
   "source": [
    "%load_ext autoreload\n",
    "%autoreload 2"
   ]
  },
  {
   "cell_type": "code",
   "execution_count": 9,
   "id": "0f688215-301b-44a9-8288-fba94b4476a8",
   "metadata": {},
   "outputs": [
    {
     "data": {
      "text/plain": [
       "[None, None]"
      ]
     },
     "execution_count": 9,
     "metadata": {},
     "output_type": "execute_result"
    }
   ],
   "source": [
    "PROJECT_PATH = '/home/swei20/PIML/PIML_specIF/'\n",
    "import sys\n",
    "[sys.path.append(i) for i in ['.', '..']]"
   ]
  },
  {
   "cell_type": "code",
   "execution_count": 5,
   "id": "a071e9d7-d843-4b30-ab8f-719084a14ccf",
   "metadata": {},
   "outputs": [],
   "source": [
    "import os\n",
    "env_vars = !cat /home/swei20/PIML/PIML_v1/.env\n",
    "for var in env_vars:\n",
    "    key, value = var.split('=')\n",
    "    os.environ[key] = value"
   ]
  },
  {
   "cell_type": "code",
   "execution_count": 3,
   "id": "23db6dee-de36-4481-a30a-4aaf6f6f549d",
   "metadata": {},
   "outputs": [],
   "source": [
    "import numpy as np\n",
    "import copy\n",
    "import matplotlib.pyplot as plt\n"
   ]
  },
  {
   "cell_type": "code",
   "execution_count": null,
   "id": "c5c0c7f5-6593-4841-bad5-6b977f626045",
   "metadata": {},
   "outputs": [],
   "source": []
  },
  {
   "cell_type": "code",
   "execution_count": 4,
   "id": "75d05b41-d4f1-4d38-bbf4-90dde0371db2",
   "metadata": {},
   "outputs": [],
   "source": [
    "class DaIn():\n",
    "    def __init__(self):\n",
    "        self.OBJECT= {\"path\": \"/home/swei20/PIML/PIMLspec/test/testdata/spec.h5\"}\n",
    "        self.MODEL = {\n",
    "            \"ResTune\" : {\"type\": \"Alex\", \"param\": {\"step\": 10, \"res\":10000}},\n",
    "            }\n",
    "        self.OP = {\"arm\": \"RedM\"}\n",
    "        self.DATA  = {\"wavesky\": \"/home/swei20/PIML/PIMLspec/test/testdata/wavesky.npy\"}\n",
    "\n",
    "        self.PARAM = {\n",
    "            \"object\": self.OBJECT,\n",
    "            \"data\"  : self.DATA,\n",
    "            \"op\"    : self.OP,\n",
    "            \"model\" : self.MODEL,}"
   ]
  },
  {
   "cell_type": "code",
   "execution_count": 5,
   "id": "3a08b61e-de35-432d-8b17-d22c03bdda2a",
   "metadata": {},
   "outputs": [],
   "source": [
    "D = DaIn()"
   ]
  },
  {
   "cell_type": "code",
   "execution_count": 11,
   "id": "bf25f9e5-ebf5-4fbb-b0c0-9f2ac47a8a1e",
   "metadata": {},
   "outputs": [
    {
     "ename": "ModuleNotFoundError",
     "evalue": "No module named 'base'",
     "output_type": "error",
     "traceback": [
      "\u001b[0;31m---------------------------------------------------------------------------\u001b[0m",
      "\u001b[0;31mModuleNotFoundError\u001b[0m                       Traceback (most recent call last)",
      "\u001b[0;32m/tmp/ipykernel_2296196/3830233858.py\u001b[0m in \u001b[0;36m<module>\u001b[0;34m\u001b[0m\n\u001b[0;32m----> 1\u001b[0;31m \u001b[0;32mfrom\u001b[0m \u001b[0mspecIF\u001b[0m\u001b[0;34m.\u001b[0m\u001b[0mgateway\u001b[0m\u001b[0;34m.\u001b[0m\u001b[0mspecprocessIF\u001b[0m \u001b[0;32mimport\u001b[0m \u001b[0mStellarSpecdProcessIF\u001b[0m\u001b[0;34m\u001b[0m\u001b[0;34m\u001b[0m\u001b[0m\n\u001b[0m",
      "\u001b[0;32m~/PIML/PIML_specIF/specIF/gateway/specprocessIF.py\u001b[0m in \u001b[0;36m<module>\u001b[0;34m\u001b[0m\n\u001b[1;32m      1\u001b[0m \u001b[0;32mfrom\u001b[0m \u001b[0mabc\u001b[0m \u001b[0;32mimport\u001b[0m \u001b[0mabstractmethod\u001b[0m\u001b[0;34m\u001b[0m\u001b[0;34m\u001b[0m\u001b[0m\n\u001b[1;32m      2\u001b[0m \u001b[0;32mfrom\u001b[0m \u001b[0mspec\u001b[0m\u001b[0;34m.\u001b[0m\u001b[0mcrust\u001b[0m\u001b[0;34m.\u001b[0m\u001b[0mdata\u001b[0m\u001b[0;34m.\u001b[0m\u001b[0mspec\u001b[0m \u001b[0;32mimport\u001b[0m \u001b[0mStellarSpec\u001b[0m\u001b[0;34m\u001b[0m\u001b[0;34m\u001b[0m\u001b[0m\n\u001b[0;32m----> 3\u001b[0;31m \u001b[0;32mfrom\u001b[0m \u001b[0mspec\u001b[0m\u001b[0;34m.\u001b[0m\u001b[0mcrust\u001b[0m\u001b[0;34m.\u001b[0m\u001b[0mprocess\u001b[0m\u001b[0;34m.\u001b[0m\u001b[0mspecprocess\u001b[0m \u001b[0;32mimport\u001b[0m \u001b[0mStellarSpecProcess\u001b[0m\u001b[0;34m\u001b[0m\u001b[0;34m\u001b[0m\u001b[0m\n\u001b[0m\u001b[1;32m      4\u001b[0m \u001b[0;32mfrom\u001b[0m \u001b[0mbaseIF\u001b[0m\u001b[0;34m.\u001b[0m\u001b[0mgateway\u001b[0m\u001b[0;34m.\u001b[0m\u001b[0mbaseprocessIF\u001b[0m \u001b[0;32mimport\u001b[0m \u001b[0mProcessIF\u001b[0m\u001b[0;34m\u001b[0m\u001b[0;34m\u001b[0m\u001b[0m\n\u001b[1;32m      5\u001b[0m \u001b[0;32mfrom\u001b[0m \u001b[0;34m.\u001b[0m\u001b[0mspecloaderIF\u001b[0m \u001b[0;32mimport\u001b[0m \u001b[0mSpecLoaderIF\u001b[0m\u001b[0;34m,\u001b[0m \u001b[0mWaveSkyLoaderIF\u001b[0m\u001b[0;34m\u001b[0m\u001b[0;34m\u001b[0m\u001b[0m\n",
      "\u001b[0;32m~/PIML/PIML_specIF/spec/crust/process/specprocess.py\u001b[0m in \u001b[0;36m<module>\u001b[0;34m\u001b[0m\n\u001b[1;32m      1\u001b[0m \u001b[0;34m\u001b[0m\u001b[0m\n\u001b[0;32m----> 2\u001b[0;31m \u001b[0;32mfrom\u001b[0m \u001b[0mbase\u001b[0m\u001b[0;34m.\u001b[0m\u001b[0mcrust\u001b[0m\u001b[0;34m.\u001b[0m\u001b[0mbaseprocess\u001b[0m \u001b[0;32mimport\u001b[0m \u001b[0mBaseProcess\u001b[0m\u001b[0;34m\u001b[0m\u001b[0;34m\u001b[0m\u001b[0m\n\u001b[0m\u001b[1;32m      3\u001b[0m \u001b[0;32mfrom\u001b[0m \u001b[0;34m.\u001b[0m\u001b[0;34m.\u001b[0m\u001b[0mdata\u001b[0m\u001b[0;34m.\u001b[0m\u001b[0mspec\u001b[0m \u001b[0;32mimport\u001b[0m \u001b[0mBaseSpec\u001b[0m\u001b[0;34m,\u001b[0m \u001b[0mStellarSpec\u001b[0m\u001b[0;34m\u001b[0m\u001b[0;34m\u001b[0m\u001b[0m\n\u001b[1;32m      4\u001b[0m \u001b[0;34m\u001b[0m\u001b[0m\n\u001b[1;32m      5\u001b[0m \u001b[0;32mfrom\u001b[0m \u001b[0;34m.\u001b[0m\u001b[0;34m.\u001b[0m\u001b[0moperation\u001b[0m\u001b[0;34m.\u001b[0m\u001b[0mspecoperation\u001b[0m \u001b[0;32mimport\u001b[0m \u001b[0mBaseSpecOperation\u001b[0m\u001b[0;34m,\u001b[0m\u001b[0;31m\\\u001b[0m\u001b[0;34m\u001b[0m\u001b[0;34m\u001b[0m\u001b[0m\n",
      "\u001b[0;31mModuleNotFoundError\u001b[0m: No module named 'base'"
     ]
    }
   ],
   "source": [
    "from specIF.gateway.specprocessIF import StellarSpecdProcessIF"
   ]
  },
  {
   "cell_type": "code",
   "execution_count": null,
   "id": "3af4f491-4aa3-487a-944f-58855a887b5f",
   "metadata": {},
   "outputs": [],
   "source": []
  }
 ],
 "metadata": {
  "kernelspec": {
   "display_name": "Python 3 [viska-tf28]",
   "language": "python",
   "name": "python3-viska-tf28"
  },
  "language_info": {
   "codemirror_mode": {
    "name": "ipython",
    "version": 3
   },
   "file_extension": ".py",
   "mimetype": "text/x-python",
   "name": "python",
   "nbconvert_exporter": "python",
   "pygments_lexer": "ipython3",
   "version": "3.9.7"
  }
 },
 "nbformat": 4,
 "nbformat_minor": 5
}
